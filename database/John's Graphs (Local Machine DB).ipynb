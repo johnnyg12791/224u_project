{
 "cells": [
  {
   "cell_type": "code",
   "execution_count": 13,
   "metadata": {
    "collapsed": true
   },
   "outputs": [],
   "source": [
    "%matplotlib inline\n",
    "import matplotlib\n",
    "import numpy as np\n",
    "import matplotlib.pyplot as plt\n",
    "import sqlite3\n",
    "\n",
    "import matplotlib.pyplot as plt"
   ]
  },
  {
   "cell_type": "code",
   "execution_count": 14,
   "metadata": {
    "collapsed": true
   },
   "outputs": [],
   "source": [
    "def make_bar_graph(x, y, x_label, y_label, title, img_num = 0):\n",
    "    plt.title(title)\n",
    "    plt.bar(x, y, linewidth = 0)\n",
    "    plt.xlabel(x_label)\n",
    "    plt.ylabel(y_label)\n",
    "    plt.text(max(x) * .8, max(y) * .9, \"Image \" + str(img_num), fontsize=15)\n",
    "    plt.show()    "
   ]
  },
  {
   "cell_type": "markdown",
   "metadata": {},
   "source": [
    "##Looking at number of sentences in Editors Picks vs All Comments##"
   ]
  },
  {
   "cell_type": "code",
   "execution_count": 15,
   "metadata": {
    "collapsed": true
   },
   "outputs": [],
   "source": [
    "comments_db = sqlite3.connect(\"../john_test_4.db\") # Create symbolic link to db you want to query.\n",
    "cursor = comments_db.cursor()\n",
    "cursor.execute(\"\"\"\n",
    "                SELECT n_sentences, COUNT(*) \n",
    "                FROM Features\n",
    "                GROUP BY n_sentences\n",
    "                \"\"\")\n",
    "all_rows = cursor.fetchall()\n",
    "comments_db.commit()\n",
    "n_sentence_list_all_comments = [x[1] for x in all_rows]"
   ]
  },
  {
   "cell_type": "code",
   "execution_count": 16,
   "metadata": {
    "collapsed": false
   },
   "outputs": [
    {
     "data": {
      "image/png": "[encoded data removed]",
      "text/plain": [
       "<matplotlib.figure.Figure at 0x108dc31d0>"
      ]
     },
     "metadata": {},
     "output_type": "display_data"
    }
   ],
   "source": [
    "x = range(len(n_sentence_list_all_comments))\n",
    "y = n_sentence_list_all_comments\n",
    "make_bar_graph(x, y, 'Number of Sentences', 'Number of Articles', 'All Comments - Number of Sentences', 1)\n"
   ]
  },
  {
   "cell_type": "code",
   "execution_count": 17,
   "metadata": {
    "collapsed": false
   },
   "outputs": [],
   "source": [
    "cursor.execute(\"\"\"\n",
    "                SELECT n_sentences, COUNT(*) \n",
    "                FROM Features\n",
    "                WHERE EditorSelection = 1\n",
    "                GROUP BY n_sentences\n",
    "                \"\"\")\n",
    "all_rows = cursor.fetchall()\n",
    "n_sentence_list_editors_picks = [x[1] for x in all_rows]\n"
   ]
  },
  {
   "cell_type": "code",
   "execution_count": 18,
   "metadata": {
    "collapsed": false
   },
   "outputs": [
    {
     "data": {
      "image/png": "[encoded data removed]",
      "text/plain": [
       "<matplotlib.figure.Figure at 0x109469990>"
      ]
     },
     "metadata": {},
     "output_type": "display_data"
    }
   ],
   "source": [
    "x = range(len(n_sentence_list_editors_picks))\n",
    "y = n_sentence_list_editors_picks\n",
    "make_bar_graph(x, y, 'Number of Sentences', 'Number of Articles', 'All Comments - Number of Sentences', 1)\n"
   ]
  },
  {
   "cell_type": "code",
   "execution_count": 19,
   "metadata": {
    "collapsed": true
   },
   "outputs": [],
   "source": [
    "def get_columns(cursor, table):\n",
    "    cursor.execute(\"SELECT * FROM \" + table + \" LIMIT 1\")\n",
    "    return {description[0] for description in cursor.description}\n",
    "    "
   ]
  },
  {
   "cell_type": "code",
   "execution_count": 20,
   "metadata": {
    "collapsed": false
   },
   "outputs": [
    {
     "name": "stdout",
     "output_type": "stream",
     "text": [
      "PRP$\n",
      "perc_3_char_words\n",
      "Conservative\n",
      "WDT\n",
      "JJ\n",
      "WP\n",
      "Palestine\n",
      "VBG\n",
      "polarity\n",
      "RP\n",
      "FW\n",
      "PRP\n",
      "RB\n",
      "avg_sentence_len\n",
      "NNS\n",
      "NNP\n",
      "WRB\n",
      "n_2_char_words\n",
      "VBN\n",
      "n_chars\n",
      "n_upper\n",
      "Liberal\n",
      "n_exclamations\n",
      "n_6_char_words\n",
      "n_14_char_words\n",
      "n_20_char_words\n",
      "perc_9_char_words\n",
      "n_novel_tags\n",
      "perc_10_char_words\n",
      "VBZ\n",
      "perc_18_char_words\n",
      "n_sentences\n",
      "avg_word_len\n",
      "Jaccard\n",
      "n_16_char_words\n",
      "perc_11_char_words\n",
      "perc_13_char_words\n",
      "starts_with_I\n",
      "Republican\n",
      "n_12_char_words\n",
      "words_per_sentence\n",
      "Democrat\n",
      "EX\n",
      "n_words\n",
      "MD\n",
      "n_questions\n",
      "perc_17_char_words\n",
      "UH\n",
      "n_3_char_words\n",
      "perc_5_char_words\n",
      "VBD\n",
      "perc_2_char_words\n",
      "VBP\n",
      "subjectivity\n",
      "perc_16_char_words\n",
      "Europe\n",
      "n_13_char_words\n",
      "perc_20_char_words\n",
      "NN\n",
      "perc_14_char_words\n",
      "n_10_char_words\n",
      "Disagree\n",
      "n_periods\n",
      "n_9_char_words\n",
      "Obama\n",
      "CC\n",
      "PDT\n",
      "CD\n",
      "perc_6_char_words\n",
      "perc_8_char_words\n",
      "WP$\n",
      "Agree\n",
      "n_15_char_words\n",
      "n_11_char_words\n",
      "JJS\n",
      "JJR\n",
      "perc_1_char_words\n",
      "n_4_char_words\n",
      "perc_4_char_words\n",
      "perc_19_char_words\n",
      "n_5_char_words\n",
      "n_8_char_words\n",
      "God\n",
      "PhD\n",
      "perc_15_char_words\n",
      "DT\n",
      "n_18_char_words\n",
      "perc_12_char_words\n",
      "POS\n",
      "LS\n",
      "n_17_char_words\n",
      "VB\n",
      "EditorSelection\n",
      "n_1_char_words\n",
      "RBS\n",
      "RBR\n",
      "Cosine\n",
      "president\n",
      "n_7_char_words\n",
      "NNPS\n",
      "CommentID\n",
      "perc_7_char_words\n",
      "n_19_char_words\n"
     ]
    }
   ],
   "source": [
    "for col in get_columns(cursor, \"Features\"):\n",
    "    print col"
   ]
  },
  {
   "cell_type": "markdown",
   "metadata": {},
   "source": [
    "##Computing Basic Statistics on our DB##"
   ]
  },
  {
   "cell_type": "code",
   "execution_count": 21,
   "metadata": {
    "collapsed": true
   },
   "outputs": [],
   "source": [
    "#Given a query such as \"Select count(*) from Comments\", returns the single number value\n",
    "def get_count_from_query(query_text):\n",
    "    cursor = comments_db.cursor()\n",
    "    cursor.execute(query_text)\n",
    "    all_rows = cursor.fetchall()\n",
    "    return all_rows[0][0]\n"
   ]
  },
  {
   "cell_type": "code",
   "execution_count": 22,
   "metadata": {
    "collapsed": true
   },
   "outputs": [],
   "source": [
    "def feature_tester(indicator):\n",
    "    overall_num_feature = get_count_from_query(\"\"\"\n",
    "                SELECT COUNT(*) \n",
    "                FROM Features\n",
    "                WHERE \"\"\" + str(indicator) + \"\"\" = 1\n",
    "                \"\"\")\n",
    "    editors_selection_num_feature = float(get_count_from_query(\"\"\"\n",
    "                SELECT COUNT(*) \n",
    "                FROM Features\n",
    "                WHERE \"\"\" + str(indicator) + \"\"\" = 1 AND EditorSelection = 1\n",
    "                \"\"\"))\n",
    "    return (editors_selection_num_feature, overall_num_feature)"
   ]
  },
  {
   "cell_type": "code",
   "execution_count": 23,
   "metadata": {
    "collapsed": false
   },
   "outputs": [
    {
     "name": "stdout",
     "output_type": "stream",
     "text": [
      "866388\n"
     ]
    }
   ],
   "source": [
    "num_comments = get_count_from_query(\"\"\"\n",
    "                        SELECT COUNT(*) \n",
    "                        FROM Features\n",
    "                        \"\"\")\n",
    "print num_comments"
   ]
  },
  {
   "cell_type": "code",
   "execution_count": 24,
   "metadata": {
    "collapsed": false
   },
   "outputs": [
    {
     "name": "stdout",
     "output_type": "stream",
     "text": [
      "43979\n"
     ]
    }
   ],
   "source": [
    "num_editor_selections = get_count_from_query(\"\"\"\n",
    "                        SELECT COUNT(*) \n",
    "                        FROM Features\n",
    "                        WHERE EditorSelection = 1\n",
    "                        \"\"\")\n",
    "print num_editor_selections"
   ]
  },
  {
   "cell_type": "code",
   "execution_count": 25,
   "metadata": {
    "collapsed": false
   },
   "outputs": [
    {
     "name": "stdout",
     "output_type": "stream",
     "text": [
      "0.0507613217173\n"
     ]
    }
   ],
   "source": [
    "print num_editor_selections/float(num_comments)"
   ]
  },
  {
   "cell_type": "markdown",
   "metadata": {},
   "source": [
    "##Looking at PhD mentions in all comments vs Editors Picks##"
   ]
  },
  {
   "cell_type": "code",
   "execution_count": 26,
   "metadata": {
    "collapsed": false
   },
   "outputs": [
    {
     "name": "stdout",
     "output_type": "stream",
     "text": [
      "1353\n"
     ]
    }
   ],
   "source": [
    "num_phd_total = get_count_from_query(\"\"\"\n",
    "                SELECT COUNT(*) \n",
    "                FROM Features\n",
    "                WHERE PhD = 1\n",
    "                \"\"\")\n",
    "print num_phd_total"
   ]
  },
  {
   "cell_type": "code",
   "execution_count": 27,
   "metadata": {
    "collapsed": false
   },
   "outputs": [
    {
     "name": "stdout",
     "output_type": "stream",
     "text": [
      "105\n"
     ]
    }
   ],
   "source": [
    "num_phd_editor_selections = get_count_from_query(\"\"\"\n",
    "                SELECT COUNT(*) \n",
    "                FROM Features\n",
    "                WHERE EditorSelection = 1 AND PhD = 1\n",
    "                \"\"\")\n",
    "print num_phd_editor_selections"
   ]
  },
  {
   "cell_type": "code",
   "execution_count": 28,
   "metadata": {
    "collapsed": false
   },
   "outputs": [
    {
     "name": "stdout",
     "output_type": "stream",
     "text": [
      "0.0776053215078\n"
     ]
    }
   ],
   "source": [
    "print float(num_phd_editor_selections)/num_phd_total"
   ]
  },
  {
   "cell_type": "code",
   "execution_count": 29,
   "metadata": {
    "collapsed": true
   },
   "outputs": [],
   "source": [
    "##TODO: Chi Squared to see if PhD is statistically significant##\n",
    "##b/c 7.7% is higher than 5%, but does it matter with a small sample?##"
   ]
  },
  {
   "cell_type": "markdown",
   "metadata": {},
   "source": [
    "##Agree vs Disagree##"
   ]
  },
  {
   "cell_type": "code",
   "execution_count": 30,
   "metadata": {
    "collapsed": false
   },
   "outputs": [
    {
     "name": "stdout",
     "output_type": "stream",
     "text": [
      "0.0776053215078 1353\n"
     ]
    }
   ],
   "source": [
    "top, bottom = feature_tester(\"PhD\")\n",
    "print top/bottom, bottom"
   ]
  },
  {
   "cell_type": "code",
   "execution_count": 31,
   "metadata": {
    "collapsed": false
   },
   "outputs": [
    {
     "name": "stdout",
     "output_type": "stream",
     "text": [
      "0.070236228131 82251\n"
     ]
    }
   ],
   "source": [
    "top, bottom = feature_tester(\"starts_with_I\")\n",
    "print top/bottom, bottom"
   ]
  },
  {
   "cell_type": "code",
   "execution_count": 32,
   "metadata": {
    "collapsed": false
   },
   "outputs": [
    {
     "name": "stdout",
     "output_type": "stream",
     "text": [
      "0.0595688926458 118300\n"
     ]
    }
   ],
   "source": [
    "top, bottom = feature_tester(\"president\")\n",
    "print top/bottom, bottom"
   ]
  },
  {
   "cell_type": "code",
   "execution_count": 33,
   "metadata": {
    "collapsed": false
   },
   "outputs": [
    {
     "name": "stdout",
     "output_type": "stream",
     "text": [
      "0.0435852794621 16657\n"
     ]
    }
   ],
   "source": [
    "top, bottom = feature_tester(\"God\")\n",
    "print top/bottom, bottom"
   ]
  },
  {
   "cell_type": "code",
   "execution_count": 34,
   "metadata": {
    "collapsed": false
   },
   "outputs": [
    {
     "name": "stdout",
     "output_type": "stream",
     "text": [
      "0.0738007380074 7588\n"
     ]
    }
   ],
   "source": [
    "top, bottom = feature_tester(\"Agree\")\n",
    "print top/bottom, bottom"
   ]
  },
  {
   "cell_type": "code",
   "execution_count": 35,
   "metadata": {
    "collapsed": false
   },
   "outputs": [
    {
     "name": "stdout",
     "output_type": "stream",
     "text": [
      "0.0973320158103 2024\n"
     ]
    }
   ],
   "source": [
    "top, bottom = feature_tester(\"Disagree\")\n",
    "print top/bottom, bottom"
   ]
  },
  {
   "cell_type": "code",
   "execution_count": 36,
   "metadata": {
    "collapsed": false
   },
   "outputs": [
    {
     "name": "stdout",
     "output_type": "stream",
     "text": [
      "0.0544884762795 135937\n"
     ]
    }
   ],
   "source": [
    "top, bottom = feature_tester(\"Obama\")\n",
    "print top/bottom, bottom"
   ]
  },
  {
   "cell_type": "code",
   "execution_count": 37,
   "metadata": {
    "collapsed": false
   },
   "outputs": [
    {
     "name": "stdout",
     "output_type": "stream",
     "text": [
      "0.051975248979 105531\n"
     ]
    }
   ],
   "source": [
    "top, bottom = feature_tester(\"Republican\")\n",
    "print top/bottom, bottom"
   ]
  },
  {
   "cell_type": "code",
   "execution_count": 38,
   "metadata": {
    "collapsed": false
   },
   "outputs": [
    {
     "name": "stdout",
     "output_type": "stream",
     "text": [
      "0.0601867157858 63519\n"
     ]
    }
   ],
   "source": [
    "top, bottom = feature_tester(\"Democrat\")\n",
    "print top/bottom, bottom"
   ]
  },
  {
   "cell_type": "code",
   "execution_count": 39,
   "metadata": {
    "collapsed": false
   },
   "outputs": [
    {
     "name": "stdout",
     "output_type": "stream",
     "text": [
      "0.0553560025543 25056\n"
     ]
    }
   ],
   "source": [
    "top, bottom = feature_tester(\"Conservative\")\n",
    "print top/bottom, bottom"
   ]
  },
  {
   "cell_type": "code",
   "execution_count": 40,
   "metadata": {
    "collapsed": false
   },
   "outputs": [
    {
     "name": "stdout",
     "output_type": "stream",
     "text": [
      "0.0571924535197 21891\n"
     ]
    }
   ],
   "source": [
    "top, bottom = feature_tester(\"Liberal\")\n",
    "print top/bottom, bottom"
   ]
  },
  {
   "cell_type": "markdown",
   "metadata": {
    "collapsed": true
   },
   "source": [
    "##Similarity Metrics##"
   ]
  },
  {
   "cell_type": "code",
   "execution_count": 72,
   "metadata": {
    "collapsed": false
   },
   "outputs": [],
   "source": [
    "def get_feature_average(feature, verbose=True):\n",
    "    cursor.execute(\"\"\"\n",
    "                    SELECT AVG(\"\"\" + feature + \"\"\")\n",
    "                    FROM Features\n",
    "                    \"\"\")\n",
    "    all_rows = cursor.fetchall()\n",
    "    overall = all_rows[0][0]\n",
    "\n",
    "    cursor.execute(\"\"\"\n",
    "                SELECT AVG(\"\"\" + feature + \"\"\")\n",
    "                FROM Features\n",
    "                WHERE EditorSelection = 0\n",
    "                \"\"\")\n",
    "    all_rows = cursor.fetchall()\n",
    "    non_editor_selection = all_rows[0][0]\n",
    "    \n",
    "    cursor.execute(\"\"\"\n",
    "                SELECT AVG(\"\"\" + feature + \"\"\")\n",
    "                FROM Features\n",
    "                WHERE EditorSelection = 1\n",
    "                \"\"\")\n",
    "    all_rows = cursor.fetchall()\n",
    "    editor_selection = all_rows[0][0]\n",
    "    if verbose :\n",
    "        print \"Overall \", feature, \" average = \", overall\n",
    "        print \"Non-EditorSelection \", feature, \" average = \", non_editor_selection    \n",
    "        print \"EditorSelection \", feature, \" average = \", editor_selection\n",
    "    return (overall, non_editor_selection, editor_selection)\n",
    "    "
   ]
  },
  {
   "cell_type": "code",
   "execution_count": 52,
   "metadata": {
    "collapsed": false
   },
   "outputs": [
    {
     "name": "stdout",
     "output_type": "stream",
     "text": [
      "Overall  Jaccard  average =  0.0554931450412\n",
      "Non-EditorSelection  Jaccard  average =  0.0547173869607\n",
      "EditorSelection  Jaccard  average =  0.0699998511335\n"
     ]
    }
   ],
   "source": [
    "overall, non_editor_selection, editor_selection = get_feature_average(\"Cosine\")"
   ]
  },
  {
   "cell_type": "code",
   "execution_count": 69,
   "metadata": {
    "collapsed": false
   },
   "outputs": [],
   "source": [
    "#Graph Cosine Results..."
   ]
  },
  {
   "cell_type": "code",
   "execution_count": 75,
   "metadata": {
    "collapsed": false
   },
   "outputs": [],
   "source": [
    "cursor.execute(\"\"\"\n",
    "                SELECT Jaccard\n",
    "                FROM Features\n",
    "                WHERE EditorSelection = 1\n",
    "                \"\"\")\n",
    "jaccard_w_editor_selection = cursor.fetchall()"
   ]
  },
  {
   "cell_type": "code",
   "execution_count": 77,
   "metadata": {
    "collapsed": false
   },
   "outputs": [
    {
     "data": {
      "image/png": "[encoded data removed]",
      "text/plain": [
       "<matplotlib.figure.Figure at 0x16e831b10>"
      ]
     },
     "metadata": {},
     "output_type": "display_data"
    }
   ],
   "source": [
    "ys = [0]*25\n",
    "for sim in jaccard_w_editor_selection:\n",
    "    ys[int(sim[0] * 100)] += 1\n",
    "    \n",
    "make_bar_graph(range(0, 25), ys, 'Similarity (%)', 'Number of Comment/Article Pairs', 'Jaccard Similiarty With EditorSelection', 1)\n"
   ]
  },
  {
   "cell_type": "code",
   "execution_count": 78,
   "metadata": {
    "collapsed": true
   },
   "outputs": [],
   "source": [
    "cursor.execute(\"\"\"\n",
    "                SELECT Jaccard\n",
    "                FROM Features\n",
    "                WHERE EditorSelection = 0\n",
    "                \"\"\")\n",
    "jaccard_no_editor_selection = cursor.fetchall()"
   ]
  },
  {
   "cell_type": "code",
   "execution_count": 91,
   "metadata": {
    "collapsed": false
   },
   "outputs": [
    {
     "data": {
      "image/png": "[encoded data removed]",
      "text/plain": [
       "<matplotlib.figure.Figure at 0x2b77d8f90>"
      ]
     },
     "metadata": {},
     "output_type": "display_data"
    }
   ],
   "source": [
    "max_sim = 25\n",
    "ys = [0]*max_sim\n",
    "for sim in jaccard_no_editor_selection:\n",
    "    if(int(sim[0] * 100) < max_sim):\n",
    "        ys[int(sim[0] * 100)] += 1\n",
    "    \n",
    "make_bar_graph(range(0, max_sim), ys, 'Similarity (%)', 'Number of Comment/Article Pairs', 'Jaccard Similiarty With *Non* EditorSelection', 1)\n"
   ]
  },
  {
   "cell_type": "code",
   "execution_count": null,
   "metadata": {
    "collapsed": true
   },
   "outputs": [],
   "source": []
  }
 ],
 "metadata": {
  "kernelspec": {
   "display_name": "Python 2",
   "language": "python",
   "name": "python2"
  },
  "language_info": {
   "codemirror_mode": {
    "name": "ipython",
    "version": 2
   },
   "file_extension": ".py",
   "mimetype": "text/x-python",
   "name": "python",
   "nbconvert_exporter": "python",
   "pygments_lexer": "ipython2",
   "version": "2.7.9"
  }
 },
 "nbformat": 4,
 "nbformat_minor": 0
}
