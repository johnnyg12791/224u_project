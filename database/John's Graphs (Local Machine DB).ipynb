{
 "cells": [
  {
   "cell_type": "code",
   "execution_count": 1,
   "metadata": {
    "collapsed": true
   },
   "outputs": [],
   "source": [
    "%matplotlib inline\n",
    "import matplotlib\n",
    "import numpy as np\n",
    "import matplotlib.pyplot as plt\n",
    "import sqlite3\n",
    "\n",
    "import matplotlib.pyplot as plt"
   ]
  },
  {
   "cell_type": "code",
   "execution_count": 2,
   "metadata": {
    "collapsed": true
   },
   "outputs": [],
   "source": [
    "def make_bar_graph(x, y, x_label, y_label, title, img_num = 0):\n",
    "    plt.title(title)\n",
    "    plt.bar(x, y, linewidth = 0)\n",
    "    plt.xlabel(x_label)\n",
    "    plt.ylabel(y_label)\n",
    "    plt.text(max(x) * .8, max(y) * .9, \"Image \" + str(img_num), fontsize=15)\n",
    "    plt.show()    "
   ]
  },
  {
   "cell_type": "markdown",
   "metadata": {},
   "source": [
    "##Looking at number of sentences in Editors Picks vs All Comments##"
   ]
  },
  {
   "cell_type": "code",
   "execution_count": 3,
   "metadata": {
    "collapsed": true
   },
   "outputs": [],
   "source": [
    "comments_db = sqlite3.connect(\"../john_test_4.db\") # Create symbolic link to db you want to query.\n",
    "cursor = comments_db.cursor()\n",
    "cursor.execute(\"\"\"\n",
    "                SELECT n_sentences, COUNT(*) \n",
    "                FROM Features\n",
    "                GROUP BY n_sentences\n",
    "                \"\"\")\n",
    "all_rows = cursor.fetchall()\n",
    "comments_db.commit()\n",
    "cursor.close()\n",
    "n_sentence_list_all_comments = [x[1] for x in all_rows]"
   ]
  },
  {
   "cell_type": "code",
   "execution_count": 4,
   "metadata": {
    "collapsed": false
   },
   "outputs": [
    {
     "data": {
      "image/png": "[encoded data removed]",
      "text/plain": [
       "<matplotlib.figure.Figure at 0x1083a8090>"
      ]
     },
     "metadata": {},
     "output_type": "display_data"
    }
   ],
   "source": [
    "x = range(len(n_sentence_list_all_comments))\n",
    "y = n_sentence_list_all_comments\n",
    "make_bar_graph(x, y, 'Number of Sentences', 'Number of Articles', 'All Comments - Number of Sentences', 1)\n"
   ]
  },
  {
   "cell_type": "code",
   "execution_count": 5,
   "metadata": {
    "collapsed": true
   },
   "outputs": [],
   "source": [
    "cursor = comments_db.cursor()\n",
    "cursor.execute(\"\"\"\n",
    "                SELECT n_sentences, COUNT(*) \n",
    "                FROM Features\n",
    "                WHERE EditorSelection = 1\n",
    "                GROUP BY n_sentences\n",
    "                \"\"\")\n",
    "all_rows = cursor.fetchall()\n",
    "comments_db.commit()\n",
    "cursor.close()\n",
    "n_sentence_list_editors_picks = [x[1] for x in all_rows]\n"
   ]
  },
  {
   "cell_type": "code",
   "execution_count": 6,
   "metadata": {
    "collapsed": false
   },
   "outputs": [
    {
     "data": {
      "image/png": "[encoded data removed]",
      "text/plain": [
       "<matplotlib.figure.Figure at 0x108d743d0>"
      ]
     },
     "metadata": {},
     "output_type": "display_data"
    }
   ],
   "source": [
    "x = range(len(n_sentence_list_editors_picks))\n",
    "y = n_sentence_list_editors_picks\n",
    "make_bar_graph(x, y, 'Number of Sentences', 'Number of Articles', 'All Comments - Number of Sentences', 1)\n"
   ]
  },
  {
   "cell_type": "code",
   "execution_count": 7,
   "metadata": {
    "collapsed": true
   },
   "outputs": [],
   "source": [
    "columns = [\"CommentID\", \"EditorSelection\", \"subjectivity\", \"PRP$\", \"perc_5_char_words\", \"perc_3_char_words\", \"God\", \"perc_8_char_words\", \"perc_2_char_words\", \"WDT\", \"PhD\", \"perc_15_char_words\", \"perc_10_char_words\", \"VBN\", \"JJ\", \"WP\", \"perc_16_char_words\", \"DT\", \"perc_18_char_words\", \"n_sentences\", \"Disagree\", \"n_18_char_words\", \"perc_1_char_words\", \"avg_word_len\", \"perc_20_char_words\", \"n_8_char_words\", \"NN\", \"perc_14_char_words\", \"n_10_char_words\", \"n_16_char_words\", \"MD\", \"perc_11_char_words\", \"perc_17_char_words\", \"perc_13_char_words\", \"perc_4_char_words\", \"n_periods\", \"starts_with_I\", \"RB\", \"avg_sentence_len\", \"n_17_char_words\", \"n_15_char_words\", \"NNS\", \"n_exclamations\", \"n_12_char_words\", \"words_per_sentence\", \"polarity\", \"VB\", \"n_1_char_words\", \"n_13_char_words\", \"CC\", \"perc_19_char_words\", \"n_2_char_words\", \"PRP\", \"n_7_char_words\", \"RBR\", \"perc_6_char_words\", \"n_chars\", \"n_upper\", \"n_words\", \"president\", \"VBP\", \"CD\", \"Agree\", \"perc_12_char_words\", \"Obama\", \"n_11_char_words\", \"VBG\", \"JJS\", \"n_9_char_words\", \"n_6_char_words\", \"n_4_char_words\", \"n_questions\", \"n_14_char_words\", \"NNP\", \"n_20_char_words\", \"perc_9_char_words\", \"n_5_char_words\", \"perc_7_char_words\", \"n_3_char_words\", \"VBZ\", \"n_19_char_words\", \"n_novel_tags\", \"WRB\", \"JJR\", \"RP\", \"UH\", \"VBD\", \"POS\", \"EX\", \"RBS\", \"PDT\", \"WP$\", \"NNPS\", \"FW\", \"LS\"]"
   ]
  },
  {
   "cell_type": "code",
   "execution_count": 8,
   "metadata": {
    "collapsed": false
   },
   "outputs": [
    {
     "name": "stdout",
     "output_type": "stream",
     "text": [
      "CommentID\n",
      "EditorSelection\n",
      "subjectivity\n",
      "PRP$\n",
      "perc_5_char_words\n",
      "perc_3_char_words\n",
      "God\n",
      "perc_8_char_words\n",
      "perc_2_char_words\n",
      "WDT\n",
      "PhD\n",
      "perc_15_char_words\n",
      "perc_10_char_words\n",
      "VBN\n",
      "JJ\n",
      "WP\n",
      "perc_16_char_words\n",
      "DT\n",
      "perc_18_char_words\n",
      "n_sentences\n",
      "Disagree\n",
      "n_18_char_words\n",
      "perc_1_char_words\n",
      "avg_word_len\n",
      "perc_20_char_words\n",
      "n_8_char_words\n",
      "NN\n",
      "perc_14_char_words\n",
      "n_10_char_words\n",
      "n_16_char_words\n",
      "MD\n",
      "perc_11_char_words\n",
      "perc_17_char_words\n",
      "perc_13_char_words\n",
      "perc_4_char_words\n",
      "n_periods\n",
      "starts_with_I\n",
      "RB\n",
      "avg_sentence_len\n",
      "n_17_char_words\n",
      "n_15_char_words\n",
      "NNS\n",
      "n_exclamations\n",
      "n_12_char_words\n",
      "words_per_sentence\n",
      "polarity\n",
      "VB\n",
      "n_1_char_words\n",
      "n_13_char_words\n",
      "CC\n",
      "perc_19_char_words\n",
      "n_2_char_words\n",
      "PRP\n",
      "n_7_char_words\n",
      "RBR\n",
      "perc_6_char_words\n",
      "n_chars\n",
      "n_upper\n",
      "n_words\n",
      "president\n",
      "VBP\n",
      "CD\n",
      "Agree\n",
      "perc_12_char_words\n",
      "Obama\n",
      "n_11_char_words\n",
      "VBG\n",
      "JJS\n",
      "n_9_char_words\n",
      "n_6_char_words\n",
      "n_4_char_words\n",
      "n_questions\n",
      "n_14_char_words\n",
      "NNP\n",
      "n_20_char_words\n",
      "perc_9_char_words\n",
      "n_5_char_words\n",
      "perc_7_char_words\n",
      "n_3_char_words\n",
      "VBZ\n",
      "n_19_char_words\n",
      "n_novel_tags\n",
      "WRB\n",
      "JJR\n",
      "RP\n",
      "UH\n",
      "VBD\n",
      "POS\n",
      "EX\n",
      "RBS\n",
      "PDT\n",
      "WP$\n",
      "NNPS\n",
      "FW\n",
      "LS\n"
     ]
    }
   ],
   "source": [
    "for col in columns:\n",
    "    print col"
   ]
  },
  {
   "cell_type": "markdown",
   "metadata": {},
   "source": [
    "##Computing Basic Statistics on our DB##"
   ]
  },
  {
   "cell_type": "code",
   "execution_count": 9,
   "metadata": {
    "collapsed": true
   },
   "outputs": [],
   "source": [
    "#Given a query such as \"Select count(*) from Comments\", returns the single number value\n",
    "def get_count_from_query(query_text):\n",
    "    cursor = comments_db.cursor()\n",
    "    cursor.execute(query_text)\n",
    "    all_rows = cursor.fetchall()\n",
    "    comments_db.commit()\n",
    "    cursor.close()\n",
    "    return all_rows[0][0]\n"
   ]
  },
  {
   "cell_type": "code",
   "execution_count": 10,
   "metadata": {
    "collapsed": false
   },
   "outputs": [
    {
     "name": "stdout",
     "output_type": "stream",
     "text": [
      "866388\n"
     ]
    }
   ],
   "source": [
    "num_comments = get_count_from_query(\"\"\"\n",
    "                        SELECT COUNT(*) \n",
    "                        FROM Features\n",
    "                        \"\"\")\n",
    "print num_comments"
   ]
  },
  {
   "cell_type": "code",
   "execution_count": 11,
   "metadata": {
    "collapsed": false
   },
   "outputs": [
    {
     "name": "stdout",
     "output_type": "stream",
     "text": [
      "43979\n"
     ]
    }
   ],
   "source": [
    "num_editor_selections = get_count_from_query(\"\"\"\n",
    "                        SELECT COUNT(*) \n",
    "                        FROM Features\n",
    "                        WHERE EditorSelection = 1\n",
    "                        \"\"\")\n",
    "print num_editor_selections"
   ]
  },
  {
   "cell_type": "code",
   "execution_count": 12,
   "metadata": {
    "collapsed": false
   },
   "outputs": [
    {
     "name": "stdout",
     "output_type": "stream",
     "text": [
      "0.0507613217173\n"
     ]
    }
   ],
   "source": [
    "print num_editor_selections/float(num_comments)"
   ]
  },
  {
   "cell_type": "markdown",
   "metadata": {},
   "source": [
    "##Looking at PhD mentions in all comments vs Editors Picks##"
   ]
  },
  {
   "cell_type": "code",
   "execution_count": 13,
   "metadata": {
    "collapsed": false
   },
   "outputs": [
    {
     "name": "stdout",
     "output_type": "stream",
     "text": [
      "1353\n"
     ]
    }
   ],
   "source": [
    "num_phd_total = get_count_from_query(\"\"\"\n",
    "                SELECT COUNT(*) \n",
    "                FROM Features\n",
    "                WHERE PhD = 1\n",
    "                \"\"\")\n",
    "print num_phd_total"
   ]
  },
  {
   "cell_type": "code",
   "execution_count": 14,
   "metadata": {
    "collapsed": false
   },
   "outputs": [
    {
     "name": "stdout",
     "output_type": "stream",
     "text": [
      "105\n"
     ]
    }
   ],
   "source": [
    "num_phd_editor_selections = get_count_from_query(\"\"\"\n",
    "                SELECT COUNT(*) \n",
    "                FROM Features\n",
    "                WHERE EditorSelection = 1 AND PhD = 1\n",
    "                \"\"\")\n",
    "print num_phd_editor_selections"
   ]
  },
  {
   "cell_type": "code",
   "execution_count": 15,
   "metadata": {
    "collapsed": false
   },
   "outputs": [
    {
     "name": "stdout",
     "output_type": "stream",
     "text": [
      "0.0776053215078\n"
     ]
    }
   ],
   "source": [
    "print float(num_phd_editor_selections)/num_phd_total"
   ]
  },
  {
   "cell_type": "code",
   "execution_count": 16,
   "metadata": {
    "collapsed": true
   },
   "outputs": [],
   "source": [
    "##TODO: Chi Squared to see if PhD is statistically significant##\n",
    "##b/c 7.7% is higher than 5%, but does it matter with a small sample?##"
   ]
  },
  {
   "cell_type": "markdown",
   "metadata": {},
   "source": [
    "##Agree vs Disagree##"
   ]
  },
  {
   "cell_type": "code",
   "execution_count": 28,
   "metadata": {
    "collapsed": false
   },
   "outputs": [
    {
     "name": "stdout",
     "output_type": "stream",
     "text": [
      "16657\n"
     ]
    }
   ],
   "source": [
    "num_agree_total = get_count_from_query(\"\"\"\n",
    "                SELECT COUNT(*) \n",
    "                FROM Features\n",
    "                WHERE God = 1\n",
    "                \"\"\")\n",
    "print num_agree_total"
   ]
  },
  {
   "cell_type": "code",
   "execution_count": 26,
   "metadata": {
    "collapsed": false
   },
   "outputs": [
    {
     "name": "stdout",
     "output_type": "stream",
     "text": [
      "49\n"
     ]
    }
   ],
   "source": [
    "num_disagree_total = get_count_from_query(\"\"\"\n",
    "                SELECT COUNT(*) \n",
    "                FROM Features\n",
    "                WHERE Obama = 1 AND EditorSelection = 1\n",
    "                \"\"\")\n",
    "print num_disagree_total"
   ]
  },
  {
   "cell_type": "code",
   "execution_count": null,
   "metadata": {
    "collapsed": false
   },
   "outputs": [],
   "source": [
    "    cursor = comments_db.cursor()\n",
    "    cursor.execute(\"\"\"\n",
    "                SELECT CommentText  \n",
    "                FROM Comments JOIN Features\n",
    "                WHERE Disagree = 1\n",
    "                \"\"\")\n",
    "    all_rows = cursor.fetchall()\n",
    "    comments_db.commit()\n",
    "    cursor.close()\n",
    "    print all_rows"
   ]
  },
  {
   "cell_type": "code",
   "execution_count": null,
   "metadata": {
    "collapsed": true
   },
   "outputs": [],
   "source": []
  }
 ],
 "metadata": {
  "kernelspec": {
   "display_name": "Python 2",
   "language": "python",
   "name": "python2"
  },
  "language_info": {
   "codemirror_mode": {
    "name": "ipython",
    "version": 2
   },
   "file_extension": ".py",
   "mimetype": "text/x-python",
   "name": "python",
   "nbconvert_exporter": "python",
   "pygments_lexer": "ipython2",
   "version": "2.7.9"
  }
 },
 "nbformat": 4,
 "nbformat_minor": 0
}
